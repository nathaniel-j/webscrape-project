{
 "cells": [
  {
   "cell_type": "markdown",
   "metadata": {},
   "source": [
    "# <div align=\"center\">Webscraping Project</div>"
   ]
  },
  {
   "cell_type": "markdown",
   "metadata": {},
   "source": [
    "This is my first attempt at webscraping data. For this project I just did a quick search for a website with a simple table. I watched [this video](https://www.youtube.com/watch?v=ng2o98k983k) about 45 times and then still went back and referenced it when I got stuck. First steps, import the necessary libraries, BeautifulSoup4 and requests. "
   ]
  },
  {
   "cell_type": "code",
   "execution_count": 1,
   "metadata": {},
   "outputs": [],
   "source": [
    "from bs4 import BeautifulSoup\n",
    "import requests"
   ]
  },
  {
   "cell_type": "markdown",
   "metadata": {},
   "source": [
    "Here we are going to import the HTML file and save it as 'content'"
   ]
  },
  {
   "cell_type": "code",
   "execution_count": 2,
   "metadata": {},
   "outputs": [],
   "source": [
    "results = requests.get('https://www.guru99.com/python-csv.html')\n",
    "content = results.content"
   ]
  },
  {
   "cell_type": "markdown",
   "metadata": {},
   "source": [
    "Here we take that HTML file and use the Beautiful Soup library to parse it out into something useable and then prettify it to make it also readable. Not including the prettified version because its too bloody long."
   ]
  },
  {
   "cell_type": "code",
   "execution_count": 3,
   "metadata": {},
   "outputs": [],
   "source": [
    "parser = BeautifulSoup(content, 'lxml')\n"
   ]
  },
  {
   "cell_type": "markdown",
   "metadata": {},
   "source": [
    "Using the HTML insptector tool in the chrome browser I was able to identify that the table that I had chosen has a tag called 'table' and was in the class 'table table-striped'. I saved that area as text, and printed it to make sure that it was indeed the table I was looking to scrape."
   ]
  },
  {
   "cell_type": "code",
   "execution_count": 4,
   "metadata": {},
   "outputs": [
    {
     "name": "stdout",
     "output_type": "stream",
     "text": [
      "Programming language Designed by Appeared Extension Python Guido van Rossum 1991 .py Java James Gosling 1995 .java C++ Bjarne Stroustrup 1983 .cpp \n"
     ]
    }
   ],
   "source": [
    "table = parser.find('table', class_='table table-striped')\n",
    "table_txt = table.text\n",
    "print(table_txt)\n"
   ]
  },
  {
   "cell_type": "markdown",
   "metadata": {},
   "source": [
    "Here, I made this HTML prettier so that I could identify the tags that break out the rows and elements of this table\n"
   ]
  },
  {
   "cell_type": "code",
   "execution_count": 5,
   "metadata": {},
   "outputs": [
    {
     "name": "stdout",
     "output_type": "stream",
     "text": [
      "<table class=\"table table-striped\">\n",
      " <tr>\n",
      "  <td>\n",
      "   Programming language\n",
      "  </td>\n",
      "  <td>\n",
      "   Designed by\n",
      "  </td>\n",
      "  <td>\n",
      "   Appeared\n",
      "  </td>\n",
      "  <td>\n",
      "   Extension\n",
      "  </td>\n",
      " </tr>\n",
      " <tr>\n",
      "  <td>\n",
      "   Python\n",
      "  </td>\n",
      "  <td>\n",
      "   Guido van Rossum\n",
      "  </td>\n",
      "  <td>\n",
      "   1991\n",
      "  </td>\n",
      "  <td>\n",
      "   .py\n",
      "  </td>\n",
      " </tr>\n",
      " <tr>\n",
      "  <td>\n",
      "   Java\n",
      "  </td>\n",
      "  <td>\n",
      "   James Gosling\n",
      "  </td>\n",
      "  <td>\n",
      "   1995\n",
      "  </td>\n",
      "  <td>\n",
      "   .java\n",
      "  </td>\n",
      " </tr>\n",
      " <tr>\n",
      "  <td>\n",
      "   C++\n",
      "  </td>\n",
      "  <td>\n",
      "   Bjarne Stroustrup\n",
      "  </td>\n",
      "  <td>\n",
      "   1983\n",
      "  </td>\n",
      "  <td>\n",
      "   .cpp\n",
      "  </td>\n",
      " </tr>\n",
      "</table>\n",
      "\n"
     ]
    }
   ],
   "source": [
    "mable = table.prettify()\n",
    "print(mable)\n"
   ]
  },
  {
   "cell_type": "markdown",
   "metadata": {},
   "source": [
    "Confirming the the 'tr' tag holds our rows, and printing the results in text format. One thing that makes this a little more complicated is that entries like 'Programming language' and 'Designed by' are made up of more than one element so I cant simply use that text file as the list. I will need a different approach."
   ]
  },
  {
   "cell_type": "code",
   "execution_count": 6,
   "metadata": {},
   "outputs": [
    {
     "name": "stdout",
     "output_type": "stream",
     "text": [
      "Programming language Designed by Appeared Extension \n"
     ]
    }
   ],
   "source": [
    "rows = table.find('tr')\n",
    "trows = rows.text\n",
    "print(trows)"
   ]
  },
  {
   "cell_type": "markdown",
   "metadata": {},
   "source": [
    "Another issue is that I want to use the 'find_all' function to pull out the rows, but doing so puts out a list that I can't use the '.text' command on to clean it up. "
   ]
  },
  {
   "cell_type": "code",
   "execution_count": 7,
   "metadata": {},
   "outputs": [
    {
     "name": "stdout",
     "output_type": "stream",
     "text": [
      "[<tr><td>Programming language </td><td>Designed by </td><td>Appeared </td><td>Extension </td></tr>, <tr><td>Python </td><td>Guido van Rossum </td><td>1991 </td><td>.py </td></tr>, <tr><td>Java </td><td>James Gosling </td><td>1995 </td><td>.java </td></tr>, <tr><td>C++ </td><td>Bjarne Stroustrup </td><td>1983 </td><td>.cpp </td></tr>]\n"
     ]
    }
   ],
   "source": [
    "rowses = table.find_all('tr')\n",
    "print(rowses)"
   ]
  },
  {
   "cell_type": "markdown",
   "metadata": {},
   "source": [
    "Another method to try later would be to try using the 'td' tag to identify each element and make up my list from there. I could maybe use a for loop to clean each entry and append the result to a new list. The problem there is that I lose my row organization. I would prefer to work with each row and end up with a list of lists."
   ]
  },
  {
   "cell_type": "code",
   "execution_count": 8,
   "metadata": {},
   "outputs": [
    {
     "name": "stdout",
     "output_type": "stream",
     "text": [
      "<td>Programming language </td>\n"
     ]
    }
   ],
   "source": [
    "entries = rowses[0].find('td')\n",
    "shmintries = entries\n",
    "print(shmintries)"
   ]
  },
  {
   "cell_type": "markdown",
   "metadata": {},
   "source": [
    "This is where the magic happens! I start a new variable with all the HTML from our table that we identified earlier and then initialize an empty list that will be our final product. I used nested for loops to clean each item of each row and return the table as a list of lists like I was looking to do."
   ]
  },
  {
   "cell_type": "code",
   "execution_count": 9,
   "metadata": {},
   "outputs": [
    {
     "name": "stdout",
     "output_type": "stream",
     "text": [
      "[['Programming language ', 'Designed by ', 'Appeared ', 'Extension '], ['Python ', 'Guido van Rossum ', '1991 ', '.py '], ['Java ', 'James Gosling ', '1995 ', '.java '], ['C++ ', 'Bjarne Stroustrup ', '1983 ', '.cpp ']]\n"
     ]
    }
   ],
   "source": [
    "stuff = table.find_all('tr')\n",
    "new_list = []\n",
    "for row in stuff:\n",
    "    row_list = []\n",
    "    for element in row:\n",
    "        clean = element.text\n",
    "        row_list.append(clean)\n",
    "    new_list.append(row_list)\n",
    "print(new_list)"
   ]
  },
  {
   "cell_type": "markdown",
   "metadata": {},
   "source": [
    "This last part is pretty simple with the help of the pandas library. First, I split the list to have the header row saved separately to be used as the column names. Then pandas just assembles the dataframe and it prints out a pretty picture for us! "
   ]
  },
  {
   "cell_type": "code",
   "execution_count": 10,
   "metadata": {},
   "outputs": [
    {
     "data": {
      "text/html": [
       "<div>\n",
       "<style scoped>\n",
       "    .dataframe tbody tr th:only-of-type {\n",
       "        vertical-align: middle;\n",
       "    }\n",
       "\n",
       "    .dataframe tbody tr th {\n",
       "        vertical-align: top;\n",
       "    }\n",
       "\n",
       "    .dataframe thead th {\n",
       "        text-align: right;\n",
       "    }\n",
       "</style>\n",
       "<table border=\"1\" class=\"dataframe\">\n",
       "  <thead>\n",
       "    <tr style=\"text-align: right;\">\n",
       "      <th></th>\n",
       "      <th>Programming language</th>\n",
       "      <th>Designed by</th>\n",
       "      <th>Appeared</th>\n",
       "      <th>Extension</th>\n",
       "    </tr>\n",
       "  </thead>\n",
       "  <tbody>\n",
       "    <tr>\n",
       "      <th>0</th>\n",
       "      <td>Python</td>\n",
       "      <td>Guido van Rossum</td>\n",
       "      <td>1991</td>\n",
       "      <td>.py</td>\n",
       "    </tr>\n",
       "    <tr>\n",
       "      <th>1</th>\n",
       "      <td>Java</td>\n",
       "      <td>James Gosling</td>\n",
       "      <td>1995</td>\n",
       "      <td>.java</td>\n",
       "    </tr>\n",
       "    <tr>\n",
       "      <th>2</th>\n",
       "      <td>C++</td>\n",
       "      <td>Bjarne Stroustrup</td>\n",
       "      <td>1983</td>\n",
       "      <td>.cpp</td>\n",
       "    </tr>\n",
       "  </tbody>\n",
       "</table>\n",
       "</div>"
      ],
      "text/plain": [
       "  Programming language         Designed by  Appeared  Extension \n",
       "0               Python    Guido van Rossum      1991        .py \n",
       "1                 Java       James Gosling      1995      .java \n",
       "2                  C++   Bjarne Stroustrup      1983       .cpp "
      ]
     },
     "execution_count": 10,
     "metadata": {},
     "output_type": "execute_result"
    }
   ],
   "source": [
    "import pandas as pd\n",
    "data = new_list[1:]\n",
    "columns = new_list[0]\n",
    "\n",
    "flable = pd.DataFrame(data)\n",
    "flable.columns = columns\n",
    "flable.head()"
   ]
  },
  {
   "cell_type": "code",
   "execution_count": null,
   "metadata": {},
   "outputs": [],
   "source": []
  }
 ],
 "metadata": {
  "kernelspec": {
   "display_name": "Python 3",
   "language": "python",
   "name": "python3"
  },
  "language_info": {
   "codemirror_mode": {
    "name": "ipython",
    "version": 3
   },
   "file_extension": ".py",
   "mimetype": "text/x-python",
   "name": "python",
   "nbconvert_exporter": "python",
   "pygments_lexer": "ipython3",
   "version": "3.8.3"
  }
 },
 "nbformat": 4,
 "nbformat_minor": 4
}
